{
 "cells": [
  {
   "cell_type": "code",
   "execution_count": 3,
   "id": "52aafd84",
   "metadata": {},
   "outputs": [
    {
     "name": "stdout",
     "output_type": "stream",
     "text": [
      "Adding new image: 1\n",
      "Adding new image: 2\n",
      "Adding new image: 3\n",
      "Adding new image: 4\n",
      "Adding new image: 5\n",
      "Adding new image: 6\n",
      "Adding new image: 7\n",
      "Adding new image: 8\n",
      "Adding new image: 9\n",
      "Adding new image: 10\n",
      "Adding new image: 11\n",
      "Adding new image: 12\n",
      "Adding new image: 13\n",
      "Adding new image: 14\n",
      "Adding new image: 15\n",
      "Adding new image: 16\n",
      "Adding new image: 17\n",
      "Adding new image: 18\n",
      "Adding new image: 19\n",
      "Images added:  19\n",
      "Saving GIF file\n",
      "Adding frame to GIF file:  1\n",
      "Adding frame to GIF file:  2\n",
      "Adding frame to GIF file:  3\n",
      "Adding frame to GIF file:  4\n",
      "Adding frame to GIF file:  5\n",
      "Adding frame to GIF file:  6\n",
      "Adding frame to GIF file:  7\n",
      "Adding frame to GIF file:  8\n",
      "Adding frame to GIF file:  9\n",
      "Adding frame to GIF file:  10\n",
      "Adding frame to GIF file:  11\n",
      "Adding frame to GIF file:  12\n",
      "Adding frame to GIF file:  13\n",
      "Adding frame to GIF file:  14\n",
      "Adding frame to GIF file:  15\n",
      "Adding frame to GIF file:  16\n",
      "Adding frame to GIF file:  17\n",
      "Adding frame to GIF file:  18\n",
      "Adding frame to GIF file:  19\n"
     ]
    }
   ],
   "source": [
    "import cv2\n",
    "import imageio\n",
    "\n",
    "cap = cv2.VideoCapture(0)\n",
    "\n",
    "frames = []\n",
    "image_count = 0\n",
    "while True:\n",
    "    ret, frame = cap.read()\n",
    "\n",
    "    cv2.imshow(\"frame\", frame)\n",
    "\n",
    "    key = cv2.waitKey(0)\n",
    "    if key == ord(\"a\"):\n",
    "        image_count += 1\n",
    "        frames.append(frame)\n",
    "        print(\"Adding new image:\", image_count)\n",
    "    elif key == ord(\"q\"):\n",
    "        break\n",
    "\n",
    "print(\"Images added: \", len(frames))\n",
    "\n",
    "# 2. Save GIF animation\n",
    "print(\"Saving GIF file\")\n",
    "with imageio.get_writer(\"smiling.gif\", mode=\"I\") as writer:\n",
    "    for idx, frame in enumerate(frames):\n",
    "        print(\"Adding frame to GIF file: \", idx + 1)\n",
    "        rgb_frame = cv2.cvtColor(frame, cv2.COLOR_BGR2RGB)\n",
    "        writer.append_data(rgb_frame)"
   ]
  },
  {
   "cell_type": "code",
   "execution_count": null,
   "id": "467a5007",
   "metadata": {},
   "outputs": [],
   "source": []
  }
 ],
 "metadata": {
  "kernelspec": {
   "display_name": "Python 3 (ipykernel)",
   "language": "python",
   "name": "python3"
  },
  "language_info": {
   "codemirror_mode": {
    "name": "ipython",
    "version": 3
   },
   "file_extension": ".py",
   "mimetype": "text/x-python",
   "name": "python",
   "nbconvert_exporter": "python",
   "pygments_lexer": "ipython3",
   "version": "3.9.12"
  }
 },
 "nbformat": 4,
 "nbformat_minor": 5
}
